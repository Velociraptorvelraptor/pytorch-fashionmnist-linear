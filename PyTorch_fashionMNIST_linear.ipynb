{
  "nbformat": 4,
  "nbformat_minor": 0,
  "metadata": {
    "colab": {
      "provenance": []
    },
    "kernelspec": {
      "name": "python3",
      "display_name": "Python 3"
    },
    "language_info": {
      "name": "python"
    }
  },
  "cells": [
    {
      "cell_type": "code",
      "execution_count": null,
      "metadata": {
        "id": "kmuHDN5LK69V"
      },
      "outputs": [],
      "source": [
        "!pip install torch torchvision"
      ]
    },
    {
      "cell_type": "code",
      "source": [
        "import torch\n",
        "from torch import nn\n",
        "from torch.utils.data import DataLoader\n",
        "\n",
        "from torchvision import datasets \n",
        "from torchvision.transforms import ToTensor\n",
        "import matplotlib.pyplot as plt"
      ],
      "metadata": {
        "id": "shcBqz8xLARs"
      },
      "execution_count": 2,
      "outputs": []
    },
    {
      "cell_type": "code",
      "source": [
        "%matplotlib inline"
      ],
      "metadata": {
        "id": "kPZk-fsQPO3o"
      },
      "execution_count": 3,
      "outputs": []
    },
    {
      "cell_type": "code",
      "source": [
        "training_data = datasets.FashionMNIST(\n",
        "    root=\"data\",\n",
        "    train=True,\n",
        "    download=True,\n",
        "    transform=ToTensor(),\n",
        ")\n",
        "\n",
        "test_data = datasets.FashionMNIST(\n",
        "    root=\"data\",\n",
        "    train=False,\n",
        "    download=True,\n",
        "    transform=ToTensor(),\n",
        ")"
      ],
      "metadata": {
        "id": "mLTHKER8LQgd"
      },
      "execution_count": null,
      "outputs": []
    },
    {
      "cell_type": "code",
      "source": [
        "labels_map = {\n",
        "    0: \"T-Shirt\",\n",
        "    1: \"Trouser\",\n",
        "    2: \"Pullover\",\n",
        "    3: \"Dress\",\n",
        "    4: \"Coat\",\n",
        "    5: \"Sandal\",\n",
        "    6: \"Shirt\",\n",
        "    7: \"Sneaker\",\n",
        "    8: \"Bag\",\n",
        "    9: \"Ankle Boot\",\n",
        "}\n",
        "\n",
        "fig = plt.figure(figsize=(8, 8))\n",
        "cols, rows = 3, 3\n",
        "for i in range(1, len(labels_map)):\n",
        "  sample_idx = torch.randint(len(training_data), size=(1,)).item()\n",
        "  img, label = training_data[sample_idx]\n",
        "  fig.add_subplot(rows, cols, i)\n",
        "  plt.title(labels_map[i])\n",
        "  plt.axis('off')\n",
        "  plt.imshow(img.squeeze(), cmap='gray')\n",
        "plt.show()\n",
        "\n"
      ],
      "metadata": {
        "colab": {
          "base_uri": "https://localhost:8080/",
          "height": 482
        },
        "id": "eSROa4mSNVC_",
        "outputId": "dfc6f57c-4855-4627-9fa8-b94e498112ae"
      },
      "execution_count": 5,
      "outputs": [
        {
          "output_type": "display_data",
          "data": {
            "text/plain": [
              "<Figure size 576x576 with 9 Axes>"
            ],
            "image/png": "[encoded data removed]"
          },
          "metadata": {
            "needs_background": "light"
          }
        }
      ]
    },
    {
      "cell_type": "code",
      "source": [
        "batch_size = 64\n",
        "\n",
        "train_dataloader = DataLoader(training_data, batch_size)\n",
        "test_dataloader = DataLoader(test_data, batch_size)"
      ],
      "metadata": {
        "id": "oHVpEpQLQXOo"
      },
      "execution_count": 6,
      "outputs": []
    },
    {
      "cell_type": "code",
      "source": [
        "random_pair = [(X, y) for X, y in train_dataloader][123]"
      ],
      "metadata": {
        "id": "DY5ifFb_W34k"
      },
      "execution_count": 7,
      "outputs": []
    },
    {
      "cell_type": "code",
      "source": [
        "random_pair[0].shape, random_pair[1].shape"
      ],
      "metadata": {
        "colab": {
          "base_uri": "https://localhost:8080/"
        },
        "id": "ZJlIkWb1W9mQ",
        "outputId": "87de2546-ac88-4d02-8c8c-bd8301902f5b"
      },
      "execution_count": 8,
      "outputs": [
        {
          "output_type": "execute_result",
          "data": {
            "text/plain": [
              "(torch.Size([64, 1, 28, 28]), torch.Size([64]))"
            ]
          },
          "metadata": {},
          "execution_count": 8
        }
      ]
    },
    {
      "cell_type": "code",
      "source": [
        "device = 'cuda' if torch.cuda.is_available() else 'cpu'"
      ],
      "metadata": {
        "id": "MpCEcc9AYErJ"
      },
      "execution_count": 9,
      "outputs": []
    },
    {
      "cell_type": "code",
      "source": [
        "class NeuralNetwork(nn.Module):\n",
        "  def __init__(self):\n",
        "    super().__init__()\n",
        "    self.flatten = nn.Flatten()\n",
        "    self.linear_relu_stack_of_layers = nn.Sequential(\n",
        "        nn.Linear(28 * 28, 1024),\n",
        "        nn.ReLU(),\n",
        "        nn.Linear(1024, 512),\n",
        "        nn.ReLU(),\n",
        "        nn.Linear(512, 256),\n",
        "        nn.ReLU(),\n",
        "        nn.Linear(256, 10)\n",
        "    )\n",
        "\n",
        "  def forward(self, x):\n",
        "    x = self.flatten(x)\n",
        "    logits = self.linear_relu_stack_of_layers(x)\n",
        "    return logits\n",
        "\n",
        "model = NeuralNetwork().to(device)\n",
        "print(model)"
      ],
      "metadata": {
        "colab": {
          "base_uri": "https://localhost:8080/"
        },
        "id": "KxZre9wKY84A",
        "outputId": "274b0ced-691e-4d5e-d8c4-e522c1bf8d6a"
      },
      "execution_count": 23,
      "outputs": [
        {
          "output_type": "stream",
          "name": "stdout",
          "text": [
            "NeuralNetwork(\n",
            "  (flatten): Flatten(start_dim=1, end_dim=-1)\n",
            "  (linear_relu_stack_of_layers): Sequential(\n",
            "    (0): Linear(in_features=784, out_features=1024, bias=True)\n",
            "    (1): ReLU()\n",
            "    (2): Linear(in_features=1024, out_features=512, bias=True)\n",
            "    (3): ReLU()\n",
            "    (4): Linear(in_features=512, out_features=256, bias=True)\n",
            "    (5): ReLU()\n",
            "    (6): Linear(in_features=256, out_features=10, bias=True)\n",
            "  )\n",
            ")\n"
          ]
        }
      ]
    },
    {
      "cell_type": "code",
      "source": [
        "loss_function = nn.CrossEntropyLoss()\n",
        "optimizer = torch.optim.SGD(model.parameters(), lr=1e-3)"
      ],
      "metadata": {
        "id": "Tb6sqNZjZimr"
      },
      "execution_count": 24,
      "outputs": []
    },
    {
      "cell_type": "code",
      "source": [
        "# model.train() tells your model that you are training the model. This helps inform layers such as Dropout and BatchNorm, which are designed to behave differently during training and evaluation. For instance, in training mode, BatchNorm updates a moving average on each new batch; whereas, for evaluation mode, these updates are frozen.\n",
        "\n",
        "# More details: model.train() sets the mode to train (see source code). You can call either model.eval() or model.train(mode=False) to tell that you are testing. It is somewhat intuitive to expect train function to train model but it does not do that. It just sets the mode."
      ],
      "metadata": {
        "id": "n4W2-QOnNVIa"
      },
      "execution_count": 12,
      "outputs": []
    },
    {
      "cell_type": "code",
      "source": [
        "def train(dataloader, model, loss_fn, optimizer):\n",
        "  size = len(dataloader.dataset)\n",
        "  model.train()\n",
        "\n",
        "  for batch, (X, y) in enumerate(dataloader):\n",
        "    X, y = X.to(device), y.to(device)\n",
        "\n",
        "    pred = model(X)\n",
        "    loss = loss_fn(pred, y)\n",
        "\n",
        "    optimizer.zero_grad()\n",
        "    loss.backward()\n",
        "    optimizer.step()\n",
        "\n",
        "    if batch % 100 == 0:\n",
        "      loss, current = loss.item(), batch * len(X)\n",
        "      print(f\"loss: {loss:>7f}  [{current:>5d}/{size:>5d}]\")\n"
      ],
      "metadata": {
        "id": "YU875_rGMdWj"
      },
      "execution_count": 14,
      "outputs": []
    },
    {
      "cell_type": "code",
      "source": [
        "def test(dataloader, model, loss_fn):\n",
        "  size = len(dataloader.dataset)\n",
        "  num_batches = len(dataloader)\n",
        "  model.eval()\n",
        "  test_loss, correct = 0, 0\n",
        "  with torch.no_grad():\n",
        "    for X, y in dataloader:\n",
        "      X, y = X.to(device), y.to(device)\n",
        "      pred = model(X)\n",
        "      test_loss += loss_fn(pred, y).item()\n",
        "      correct += (pred.argmax(1) == y).type(torch.float).sum().item()\n",
        "  test_loss /= num_batches\n",
        "  correct /= size\n",
        "  print(f\"Test Error: \\n Accuracy: {(100*correct):>0.1f}%, Avg loss: {test_loss:>8f} \\n\")"
      ],
      "metadata": {
        "id": "PvBJyFnLQP6s"
      },
      "execution_count": 15,
      "outputs": []
    },
    {
      "cell_type": "code",
      "source": [
        "for epoch in range(8):\n",
        "  print(f'Epoch {epoch+1}\\n'+20*'.')\n",
        "  train(train_dataloader, model, loss_function, optimizer)\n",
        "  test(test_dataloader, model, loss_function)\n"
      ],
      "metadata": {
        "colab": {
          "base_uri": "https://localhost:8080/"
        },
        "id": "fq2v9HrdRv9y",
        "outputId": "67fb88ef-91ab-4edb-de98-94d70551e4db"
      },
      "execution_count": 25,
      "outputs": [
        {
          "output_type": "stream",
          "name": "stdout",
          "text": [
            "Epoch 1\n",
            "....................\n",
            "loss: 2.293561  [    0/60000]\n",
            "loss: 2.297920  [ 6400/60000]\n",
            "loss: 2.295206  [12800/60000]\n",
            "loss: 2.301703  [19200/60000]\n",
            "loss: 2.291600  [25600/60000]\n",
            "loss: 2.281124  [32000/60000]\n",
            "loss: 2.290679  [38400/60000]\n",
            "loss: 2.272823  [44800/60000]\n",
            "loss: 2.271375  [51200/60000]\n",
            "loss: 2.281024  [57600/60000]\n",
            "Test Error: \n",
            " Accuracy: 34.4%, Avg loss: 2.271604 \n",
            "\n",
            "Epoch 2\n",
            "....................\n",
            "loss: 2.261915  [    0/60000]\n",
            "loss: 2.268001  [ 6400/60000]\n",
            "loss: 2.257481  [12800/60000]\n",
            "loss: 2.269404  [19200/60000]\n",
            "loss: 2.253181  [25600/60000]\n",
            "loss: 2.236880  [32000/60000]\n",
            "loss: 2.251219  [38400/60000]\n",
            "loss: 2.227515  [44800/60000]\n",
            "loss: 2.226918  [51200/60000]\n",
            "loss: 2.225990  [57600/60000]\n",
            "Test Error: \n",
            " Accuracy: 42.2%, Avg loss: 2.218452 \n",
            "\n",
            "Epoch 3\n",
            "....................\n",
            "loss: 2.212301  [    0/60000]\n",
            "loss: 2.217786  [ 6400/60000]\n",
            "loss: 2.192754  [12800/60000]\n",
            "loss: 2.211182  [19200/60000]\n",
            "loss: 2.179055  [25600/60000]\n",
            "loss: 2.150270  [32000/60000]\n",
            "loss: 2.173895  [38400/60000]\n",
            "loss: 2.132559  [44800/60000]\n",
            "loss: 2.132329  [51200/60000]\n",
            "loss: 2.108735  [57600/60000]\n",
            "Test Error: \n",
            " Accuracy: 40.0%, Avg loss: 2.104876 \n",
            "\n",
            "Epoch 4\n",
            "....................\n",
            "loss: 2.107850  [    0/60000]\n",
            "loss: 2.105715  [ 6400/60000]\n",
            "loss: 2.049006  [12800/60000]\n",
            "loss: 2.076845  [19200/60000]\n",
            "loss: 2.006297  [25600/60000]\n",
            "loss: 1.959990  [32000/60000]\n",
            "loss: 1.991923  [38400/60000]\n",
            "loss: 1.915399  [44800/60000]\n",
            "loss: 1.920754  [51200/60000]\n",
            "loss: 1.850171  [57600/60000]\n",
            "Test Error: \n",
            " Accuracy: 45.0%, Avg loss: 1.855753 \n",
            "\n",
            "Epoch 5\n",
            "....................\n",
            "loss: 1.887518  [    0/60000]\n",
            "loss: 1.856746  [ 6400/60000]\n",
            "loss: 1.752382  [12800/60000]\n",
            "loss: 1.793162  [19200/60000]\n",
            "loss: 1.674860  [25600/60000]\n",
            "loss: 1.652178  [32000/60000]\n",
            "loss: 1.674181  [38400/60000]\n",
            "loss: 1.593435  [44800/60000]\n",
            "loss: 1.619351  [51200/60000]\n",
            "loss: 1.515409  [57600/60000]\n",
            "Test Error: \n",
            " Accuracy: 50.8%, Avg loss: 1.534890 \n",
            "\n",
            "Epoch 6\n",
            "....................\n",
            "loss: 1.611774  [    0/60000]\n",
            "loss: 1.564756  [ 6400/60000]\n",
            "loss: 1.436742  [12800/60000]\n",
            "loss: 1.481950  [19200/60000]\n",
            "loss: 1.385826  [25600/60000]\n",
            "loss: 1.403020  [32000/60000]\n",
            "loss: 1.401231  [38400/60000]\n",
            "loss: 1.348729  [44800/60000]\n",
            "loss: 1.376045  [51200/60000]\n",
            "loss: 1.280937  [57600/60000]\n",
            "Test Error: \n",
            " Accuracy: 56.9%, Avg loss: 1.300239 \n",
            "\n",
            "Epoch 7\n",
            "....................\n",
            "loss: 1.392236  [    0/60000]\n",
            "loss: 1.355432  [ 6400/60000]\n",
            "loss: 1.207496  [12800/60000]\n",
            "loss: 1.281537  [19200/60000]\n",
            "loss: 1.184353  [25600/60000]\n",
            "loss: 1.227982  [32000/60000]\n",
            "loss: 1.229313  [38400/60000]\n",
            "loss: 1.185841  [44800/60000]\n",
            "loss: 1.219795  [51200/60000]\n",
            "loss: 1.136409  [57600/60000]\n",
            "Test Error: \n",
            " Accuracy: 59.5%, Avg loss: 1.150182 \n",
            "\n",
            "Epoch 8\n",
            "....................\n",
            "loss: 1.239988  [    0/60000]\n",
            "loss: 1.219815  [ 6400/60000]\n",
            "loss: 1.050661  [12800/60000]\n",
            "loss: 1.156554  [19200/60000]\n",
            "loss: 1.044133  [25600/60000]\n",
            "loss: 1.104038  [32000/60000]\n",
            "loss: 1.117531  [38400/60000]\n",
            "loss: 1.076039  [44800/60000]\n",
            "loss: 1.112618  [51200/60000]\n",
            "loss: 1.038654  [57600/60000]\n",
            "Test Error: \n",
            " Accuracy: 61.6%, Avg loss: 1.048419 \n",
            "\n"
          ]
        }
      ]
    },
    {
      "cell_type": "code",
      "source": [
        "torch.save(model.state_dict(), 'model.pth')\n",
        "print(\"Saved PyTorch Model State to model.pth\")"
      ],
      "metadata": {
        "colab": {
          "base_uri": "https://localhost:8080/"
        },
        "id": "ZlTUQ1ODR80b",
        "outputId": "28fc20bc-bc21-4ca2-bc86-27fab4f35566"
      },
      "execution_count": 26,
      "outputs": [
        {
          "output_type": "stream",
          "name": "stdout",
          "text": [
            "Saved PyTorch Model State to model.pth\n"
          ]
        }
      ]
    },
    {
      "cell_type": "code",
      "source": [
        "classes = [\n",
        "    \"T-shirt/top\",\n",
        "    \"Trouser\",\n",
        "    \"Pullover\",\n",
        "    \"Dress\",\n",
        "    \"Coat\",\n",
        "    \"Sandal\",\n",
        "    \"Shirt\",\n",
        "    \"Sneaker\",\n",
        "    \"Bag\",\n",
        "    \"Ankle boot\",\n",
        "]\n",
        "\n",
        "model.eval()\n",
        "\n",
        "sample_idx = 2132\n",
        "x, y = test_data[sample_idx][0], test_data[sample_idx ][1]\n",
        "with torch.no_grad():\n",
        "    pred = model(x)\n",
        "    predicted, actual = classes[pred[0].argmax(0)], classes[y]\n",
        "\n",
        "plt.title(f'Predicted: \"{predicted}\", Actual: \"{actual}\"')\n",
        "plt.axis('off')\n",
        "plt.imshow(x.squeeze(), cmap='gray')\n",
        "plt.show()\n"
      ],
      "metadata": {
        "colab": {
          "base_uri": "https://localhost:8080/",
          "height": 264
        },
        "id": "1XNBl16hVQSs",
        "outputId": "2429067a-e5b9-4c4a-fafd-503e56b30ff9"
      },
      "execution_count": 44,
      "outputs": [
        {
          "output_type": "display_data",
          "data": {
            "text/plain": [
              "<Figure size 432x288 with 1 Axes>"
            ],
            "image/png": "[encoded data removed]"
          },
          "metadata": {
            "needs_background": "light"
          }
        }
      ]
    },
    {
      "cell_type": "markdown",
      "source": [
        "Tensors"
      ],
      "metadata": {
        "id": "T1dbPQNFf4b9"
      }
    },
    {
      "cell_type": "code",
      "source": [
        "tensor = torch.randint(10, (4, 5)); tensor"
      ],
      "metadata": {
        "colab": {
          "base_uri": "https://localhost:8080/"
        },
        "id": "fykzCIINf6g6",
        "outputId": "d4f85de7-7075-4928-f315-9b9ba74acfd6"
      },
      "execution_count": 66,
      "outputs": [
        {
          "output_type": "execute_result",
          "data": {
            "text/plain": [
              "tensor([[2, 6, 8, 5, 7],\n",
              "        [8, 3, 7, 2, 6],\n",
              "        [8, 7, 5, 7, 8],\n",
              "        [0, 5, 9, 0, 4]])"
            ]
          },
          "metadata": {},
          "execution_count": 66
        }
      ]
    },
    {
      "cell_type": "code",
      "source": [
        "tensor * 2"
      ],
      "metadata": {
        "colab": {
          "base_uri": "https://localhost:8080/"
        },
        "id": "yuUEUgPkgC7U",
        "outputId": "a3499be6-855e-4807-8930-3a633052b238"
      },
      "execution_count": 71,
      "outputs": [
        {
          "output_type": "execute_result",
          "data": {
            "text/plain": [
              "tensor([[ 4, 12, 16, 10, 14],\n",
              "        [16,  6, 14,  4, 12],\n",
              "        [16, 14, 10, 14, 16],\n",
              "        [ 0, 10, 18,  0,  8]])"
            ]
          },
          "metadata": {},
          "execution_count": 71
        }
      ]
    },
    {
      "cell_type": "code",
      "source": [
        "t1 = tensor[1:3, :]; t1.T"
      ],
      "metadata": {
        "colab": {
          "base_uri": "https://localhost:8080/"
        },
        "id": "03M4Dh3TgDTV",
        "outputId": "20bf8819-b50b-487a-ce8e-3686d5b21804"
      },
      "execution_count": 75,
      "outputs": [
        {
          "output_type": "execute_result",
          "data": {
            "text/plain": [
              "tensor([[8, 8],\n",
              "        [3, 7],\n",
              "        [7, 5],\n",
              "        [2, 7],\n",
              "        [6, 8]])"
            ]
          },
          "metadata": {},
          "execution_count": 75
        }
      ]
    },
    {
      "cell_type": "code",
      "source": [
        "tensor @ t1.T"
      ],
      "metadata": {
        "colab": {
          "base_uri": "https://localhost:8080/"
        },
        "id": "M1GpwUoEhBJ6",
        "outputId": "6aff5645-25c9-4495-9b29-03b4e80c8735"
      },
      "execution_count": 76,
      "outputs": [
        {
          "output_type": "execute_result",
          "data": {
            "text/plain": [
              "tensor([[142, 189],\n",
              "        [162, 182],\n",
              "        [182, 251],\n",
              "        [102, 112]])"
            ]
          },
          "metadata": {},
          "execution_count": 76
        }
      ]
    },
    {
      "cell_type": "code",
      "source": [
        "tensor.matmul(t1.T).numpy()"
      ],
      "metadata": {
        "colab": {
          "base_uri": "https://localhost:8080/"
        },
        "id": "Cslq0dQDhGsv",
        "outputId": "4d7c3f57-9082-4870-9c79-76de95625929"
      },
      "execution_count": 81,
      "outputs": [
        {
          "output_type": "execute_result",
          "data": {
            "text/plain": [
              "array([[142, 189],\n",
              "       [162, 182],\n",
              "       [182, 251],\n",
              "       [102, 112]])"
            ]
          },
          "metadata": {},
          "execution_count": 81
        }
      ]
    }
  ]
}